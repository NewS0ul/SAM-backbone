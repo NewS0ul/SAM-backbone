{
 "cells": [
  {
   "cell_type": "code",
   "execution_count": 1,
   "id": "d875eec7",
   "metadata": {},
   "outputs": [
    {
     "ename": "NameError",
     "evalue": "name 'args' is not defined",
     "output_type": "error",
     "traceback": [
      "\u001b[0;31m---------------------------------------------------------------------------\u001b[0m",
      "\u001b[0;31mNameError\u001b[0m                                 Traceback (most recent call last)",
      "\u001b[0;32m/tmp/ipykernel_3852774/3640920946.py\u001b[0m in \u001b[0;36m<module>\u001b[0;34m\u001b[0m\n\u001b[0;32m----> 1\u001b[0;31m \u001b[0margs\u001b[0m\u001b[0;34m.\u001b[0m\u001b[0mdataset_path\u001b[0m \u001b[0;34m=\u001b[0m \u001b[0;34m\"/nasbrain/f21lin/testing\"\u001b[0m\u001b[0;34m\u001b[0m\u001b[0;34m\u001b[0m\u001b[0m\n\u001b[0m\u001b[1;32m      2\u001b[0m \u001b[0margs\u001b[0m\u001b[0;34m.\u001b[0m\u001b[0mn_runs\u001b[0m \u001b[0;34m=\u001b[0m \u001b[0;36m10\u001b[0m\u001b[0;34m\u001b[0m\u001b[0;34m\u001b[0m\u001b[0m\n\u001b[1;32m      3\u001b[0m \u001b[0margs\u001b[0m\u001b[0;34m.\u001b[0m\u001b[0mmasks_dir\u001b[0m \u001b[0;34m=\u001b[0m \u001b[0;34m\"/nasbrain/f21lin/masks\"\u001b[0m\u001b[0;34m\u001b[0m\u001b[0;34m\u001b[0m\u001b[0m\n\u001b[1;32m      4\u001b[0m \u001b[0;32mimport\u001b[0m \u001b[0mtorch\u001b[0m\u001b[0;34m\u001b[0m\u001b[0;34m\u001b[0m\u001b[0m\n\u001b[1;32m      5\u001b[0m \u001b[0;32mfrom\u001b[0m \u001b[0mfew_shot_eval\u001b[0m \u001b[0;32mimport\u001b[0m \u001b[0mdefine_runs\u001b[0m\u001b[0;34m,\u001b[0m \u001b[0mcrops_ncm\u001b[0m\u001b[0;34m\u001b[0m\u001b[0;34m\u001b[0m\u001b[0m\n",
      "\u001b[0;31mNameError\u001b[0m: name 'args' is not defined"
     ]
    }
   ],
   "source": [
    "args = {}\n",
    "args.dataset_path = \"/nasbrain/f21lin/testing\"\n",
    "args.n_runs = 10\n",
    "args.masks_dir = \"/nasbrain/f21lin/masks\"\n",
    "import torch\n",
    "from few_shot_eval import define_runs, crops_ncm\n",
    "features = torch.load(\"/nasbrain/f21lin/miniTestingSAMfeatures.pt1\")\n",
    "train_features = {}\n",
    "val_features = {}\n",
    "test_features = {}\n",
    "num_classes = 20\n",
    "val_classes = 10\n",
    "for i,class_name in enumerate(features.keys()):\n",
    "    if i < num_classes:\n",
    "        train_features[class_name] = features[class_name]\n",
    "    elif i < num_classes + val_classes:\n",
    "        val_features[class_name] = features[class_name]\n",
    "    else:\n",
    "        test_features[class_name] = features[class_name]\n",
    "        \n",
    "val_classes,val_indices = define_runs(5,1,15,10,10*[100])\n",
    "crops_ncm(train_features,val_features,val_classes,val_indices,1)\n"
   ]
  },
  {
   "cell_type": "code",
   "execution_count": null,
   "id": "81ef43ab",
   "metadata": {},
   "outputs": [],
   "source": []
  }
 ],
 "metadata": {
  "kernelspec": {
   "display_name": "Python 3 (ipykernel)",
   "language": "python",
   "name": "python3"
  },
  "language_info": {
   "codemirror_mode": {
    "name": "ipython",
    "version": 3
   },
   "file_extension": ".py",
   "mimetype": "text/x-python",
   "name": "python",
   "nbconvert_exporter": "python",
   "pygments_lexer": "ipython3",
   "version": "3.10.12"
  }
 },
 "nbformat": 4,
 "nbformat_minor": 5
}
