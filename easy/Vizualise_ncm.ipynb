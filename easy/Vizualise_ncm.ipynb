{
 "cells": [
  {
   "cell_type": "code",
   "execution_count": null,
   "id": "84d45b71",
   "metadata": {},
   "outputs": [],
   "source": [
    "import torch\n",
    "from few_shot_eval import define_runs, crops_ncm\n",
    "features = torch.load(\"/nasbrain/f21lin/miniTestingSAMfeatures.pt1\")\n",
    "train_features = {}\n",
    "val_features = {}\n",
    "test_features = {}\n",
    "num_classes = 20\n",
    "val_classes = 10\n",
    "for i,class_name in enumerate(features.keys()):\n",
    "    if i < num_classes:\n",
    "        train_features[class_name] = features[class_name]\n",
    "    elif i < num_classes + val_classes:\n",
    "        val_features[class_name] = features[class_name]\n",
    "    else:\n",
    "        test_features[class_name] = features[class_name]\n"
   ]
  },
  {
   "cell_type": "code",
   "execution_count": null,
   "id": "456365ed",
   "metadata": {},
   "outputs": [],
   "source": [
    "val_classes,val_indices = define_runs(5,1,15,10,10*[100])\n",
    "crops_ncm(train_features,val_features,val_classes,val_indices,1)"
   ]
  },
  {
   "cell_type": "code",
   "execution_count": null,
   "id": "00a5ac60",
   "metadata": {},
   "outputs": [],
   "source": []
  }
 ],
 "metadata": {
  "kernelspec": {
   "display_name": "Python 3 (ipykernel)",
   "language": "python",
   "name": "python3"
  },
  "language_info": {
   "codemirror_mode": {
    "name": "ipython",
    "version": 3
   },
   "file_extension": ".py",
   "mimetype": "text/x-python",
   "name": "python",
   "nbconvert_exporter": "python",
   "pygments_lexer": "ipython3",
   "version": "3.10.12"
  }
 },
 "nbformat": 4,
 "nbformat_minor": 5
}
